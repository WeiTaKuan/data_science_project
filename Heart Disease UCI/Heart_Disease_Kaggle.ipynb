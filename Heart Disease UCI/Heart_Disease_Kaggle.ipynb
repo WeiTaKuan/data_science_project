{
 "cells": [
  {
   "cell_type": "markdown",
   "id": "d85451ec",
   "metadata": {},
   "source": [
    "# Kaggle Heart Disease UCI\n",
    "- Author: Max Kuan\n",
    "- Date: 2022.02.19\n",
    "- Source: https://www.kaggle.com/ronitf/heart-disease-uci\n",
    "\n",
    "## Description\n",
    "This dataset will identify possible characteristics that might cause heart disease by identifying specific patterns from 13 different features. The features include age, sex, chest pain type (cp), resting blood pressure (trestbps), serum cholesterol (chol), fasting blood sugar (fbs), resting electrocardiographic result (restecg), maximum heart rate achieved (thalach), exercise-induced angina (exang), ST depression induced by exercise relative to rest (old peak), number of major vessels (ca) and defect (thal). Besides, this dataset had provided labels for heart disease patients. Hence, we can use supervised machine learning to identify future heart disease."
   ]
  },
  {
   "cell_type": "markdown",
   "id": "b8b8d2fc",
   "metadata": {},
   "source": [
    "## Attribute Information\n",
    "- age\n",
    "- sex\n",
    "- chest pain type (4 values)\n",
    "- resting blood pressure\n",
    "- serum cholestoral in mg/dl\n",
    "- fasting blood sugar > 120 mg/dl\n",
    "- resting electrocardiographic results (values 0,1,2)\n",
    "- maximum heart rate achieved\n",
    "- exercise induced angina\n",
    "- oldpeak = ST depression induced by exercise relative to rest\n",
    "- the slope of the peak exercise ST segment\n",
    "- number of major vessels (0-3) colored by flourosopy\n",
    "- thal: 3 = normal; 6 = fixed defect; 7 = reversable defect"
   ]
  },
  {
   "cell_type": "markdown",
   "id": "c5bb2261",
   "metadata": {},
   "source": [
    "### Before Start\n",
    "**According to the description there are several features need to take care before using the dataset**\n",
    "- cp: chest pain type (4 values)\n",
    "- restecg: resting electrocardiographic results (values 0,1,2)\n",
    "- fbs > 120 mg/dl\n",
    "- ca: number of major vessels (0-3) colored by flourosopy\n",
    "- thal: 3 = normal; 6 = fixed defect; 7 = reversable defect\n",
    "- exercise induced angina (1 = yes; 0 = no)\n",
    "\n",
    "Change the value in these column into desire format"
   ]
  },
  {
   "cell_type": "code",
   "execution_count": 2,
   "id": "f786375e",
   "metadata": {},
   "outputs": [],
   "source": [
    "import pandas as pd\n",
    "import numpy as np\n",
    "import logging\n",
    "import matplotlib.pyplot as plt\n",
    "import seaborn as sns"
   ]
  },
  {
   "cell_type": "code",
   "execution_count": 3,
   "id": "bcd7f664",
   "metadata": {},
   "outputs": [],
   "source": [
    "data = pd.read_csv(\"heart.csv\")"
   ]
  },
  {
   "cell_type": "code",
   "execution_count": 4,
   "id": "93123c76",
   "metadata": {},
   "outputs": [
    {
     "data": {
      "text/html": [
       "<div>\n",
       "<style scoped>\n",
       "    .dataframe tbody tr th:only-of-type {\n",
       "        vertical-align: middle;\n",
       "    }\n",
       "\n",
       "    .dataframe tbody tr th {\n",
       "        vertical-align: top;\n",
       "    }\n",
       "\n",
       "    .dataframe thead th {\n",
       "        text-align: right;\n",
       "    }\n",
       "</style>\n",
       "<table border=\"1\" class=\"dataframe\">\n",
       "  <thead>\n",
       "    <tr style=\"text-align: right;\">\n",
       "      <th></th>\n",
       "      <th>age</th>\n",
       "      <th>sex</th>\n",
       "      <th>cp</th>\n",
       "      <th>trestbps</th>\n",
       "      <th>chol</th>\n",
       "      <th>fbs</th>\n",
       "      <th>restecg</th>\n",
       "      <th>thalach</th>\n",
       "      <th>exang</th>\n",
       "      <th>oldpeak</th>\n",
       "      <th>slope</th>\n",
       "      <th>ca</th>\n",
       "      <th>thal</th>\n",
       "      <th>target</th>\n",
       "    </tr>\n",
       "  </thead>\n",
       "  <tbody>\n",
       "    <tr>\n",
       "      <th>0</th>\n",
       "      <td>63</td>\n",
       "      <td>1</td>\n",
       "      <td>3</td>\n",
       "      <td>145</td>\n",
       "      <td>233</td>\n",
       "      <td>1</td>\n",
       "      <td>0</td>\n",
       "      <td>150</td>\n",
       "      <td>0</td>\n",
       "      <td>2.3</td>\n",
       "      <td>0</td>\n",
       "      <td>0</td>\n",
       "      <td>1</td>\n",
       "      <td>1</td>\n",
       "    </tr>\n",
       "    <tr>\n",
       "      <th>1</th>\n",
       "      <td>37</td>\n",
       "      <td>1</td>\n",
       "      <td>2</td>\n",
       "      <td>130</td>\n",
       "      <td>250</td>\n",
       "      <td>0</td>\n",
       "      <td>1</td>\n",
       "      <td>187</td>\n",
       "      <td>0</td>\n",
       "      <td>3.5</td>\n",
       "      <td>0</td>\n",
       "      <td>0</td>\n",
       "      <td>2</td>\n",
       "      <td>1</td>\n",
       "    </tr>\n",
       "    <tr>\n",
       "      <th>2</th>\n",
       "      <td>41</td>\n",
       "      <td>0</td>\n",
       "      <td>1</td>\n",
       "      <td>130</td>\n",
       "      <td>204</td>\n",
       "      <td>0</td>\n",
       "      <td>0</td>\n",
       "      <td>172</td>\n",
       "      <td>0</td>\n",
       "      <td>1.4</td>\n",
       "      <td>2</td>\n",
       "      <td>0</td>\n",
       "      <td>2</td>\n",
       "      <td>1</td>\n",
       "    </tr>\n",
       "    <tr>\n",
       "      <th>3</th>\n",
       "      <td>56</td>\n",
       "      <td>1</td>\n",
       "      <td>1</td>\n",
       "      <td>120</td>\n",
       "      <td>236</td>\n",
       "      <td>0</td>\n",
       "      <td>1</td>\n",
       "      <td>178</td>\n",
       "      <td>0</td>\n",
       "      <td>0.8</td>\n",
       "      <td>2</td>\n",
       "      <td>0</td>\n",
       "      <td>2</td>\n",
       "      <td>1</td>\n",
       "    </tr>\n",
       "    <tr>\n",
       "      <th>4</th>\n",
       "      <td>57</td>\n",
       "      <td>0</td>\n",
       "      <td>0</td>\n",
       "      <td>120</td>\n",
       "      <td>354</td>\n",
       "      <td>0</td>\n",
       "      <td>1</td>\n",
       "      <td>163</td>\n",
       "      <td>1</td>\n",
       "      <td>0.6</td>\n",
       "      <td>2</td>\n",
       "      <td>0</td>\n",
       "      <td>2</td>\n",
       "      <td>1</td>\n",
       "    </tr>\n",
       "  </tbody>\n",
       "</table>\n",
       "</div>"
      ],
      "text/plain": [
       "   age  sex  cp  trestbps  chol  fbs  restecg  thalach  exang  oldpeak  slope  \\\n",
       "0   63    1   3       145   233    1        0      150      0      2.3      0   \n",
       "1   37    1   2       130   250    0        1      187      0      3.5      0   \n",
       "2   41    0   1       130   204    0        0      172      0      1.4      2   \n",
       "3   56    1   1       120   236    0        1      178      0      0.8      2   \n",
       "4   57    0   0       120   354    0        1      163      1      0.6      2   \n",
       "\n",
       "   ca  thal  target  \n",
       "0   0     1       1  \n",
       "1   0     2       1  \n",
       "2   0     2       1  \n",
       "3   0     2       1  \n",
       "4   0     2       1  "
      ]
     },
     "execution_count": 4,
     "metadata": {},
     "output_type": "execute_result"
    }
   ],
   "source": [
    "data.head()"
   ]
  },
  {
   "cell_type": "code",
   "execution_count": 5,
   "id": "d2b9bd1c",
   "metadata": {},
   "outputs": [],
   "source": [
    "condition = {\"cp\":{0:\"L0\", 1:\"L1\", 2:\"L2\", 3:\"L3\"}, \n",
    "             \"restecg\":{0:\"L0\", 1:\"L1\", 2:\"L2\"},\n",
    "            \"fbs\":{0:\"<120 mg/dl\", 1: \">120 mg/dl\"},\n",
    "            \"ca\":{0:\"N0\", 1:\"N1\", 2:\"N2\", 3:\"N3\", 4:\"N4\"},\n",
    "             \"sex\":{0:\"Female\", 1:\"Male\"},\n",
    "             \"exang\":{0:\"No\",1:\"Yes\"},\n",
    "             \"slope\":{0:\"Normal\", 1:\"T1\", 2:\"T2\"}\n",
    "            }"
   ]
  },
  {
   "cell_type": "code",
   "execution_count": 6,
   "id": "6f3d949a",
   "metadata": {},
   "outputs": [],
   "source": [
    "data.replace(condition, inplace=True)"
   ]
  },
  {
   "cell_type": "code",
   "execution_count": 7,
   "id": "53e51b2c",
   "metadata": {},
   "outputs": [],
   "source": [
    "data['thal'] = np.where(data.thal <= 3, 'normal', np.where((data.thal > 3) & (data.thal <= 6), 'fixed_defect', 'reversable defect' ))"
   ]
  },
  {
   "cell_type": "code",
   "execution_count": 8,
   "id": "fbc634c5",
   "metadata": {},
   "outputs": [
    {
     "data": {
      "text/html": [
       "<div>\n",
       "<style scoped>\n",
       "    .dataframe tbody tr th:only-of-type {\n",
       "        vertical-align: middle;\n",
       "    }\n",
       "\n",
       "    .dataframe tbody tr th {\n",
       "        vertical-align: top;\n",
       "    }\n",
       "\n",
       "    .dataframe thead th {\n",
       "        text-align: right;\n",
       "    }\n",
       "</style>\n",
       "<table border=\"1\" class=\"dataframe\">\n",
       "  <thead>\n",
       "    <tr style=\"text-align: right;\">\n",
       "      <th></th>\n",
       "      <th>age</th>\n",
       "      <th>sex</th>\n",
       "      <th>cp</th>\n",
       "      <th>trestbps</th>\n",
       "      <th>chol</th>\n",
       "      <th>fbs</th>\n",
       "      <th>restecg</th>\n",
       "      <th>thalach</th>\n",
       "      <th>exang</th>\n",
       "      <th>oldpeak</th>\n",
       "      <th>slope</th>\n",
       "      <th>ca</th>\n",
       "      <th>thal</th>\n",
       "      <th>target</th>\n",
       "    </tr>\n",
       "  </thead>\n",
       "  <tbody>\n",
       "    <tr>\n",
       "      <th>0</th>\n",
       "      <td>63</td>\n",
       "      <td>Male</td>\n",
       "      <td>L3</td>\n",
       "      <td>145</td>\n",
       "      <td>233</td>\n",
       "      <td>&gt;120 mg/dl</td>\n",
       "      <td>L0</td>\n",
       "      <td>150</td>\n",
       "      <td>No</td>\n",
       "      <td>2.3</td>\n",
       "      <td>Normal</td>\n",
       "      <td>N0</td>\n",
       "      <td>normal</td>\n",
       "      <td>1</td>\n",
       "    </tr>\n",
       "    <tr>\n",
       "      <th>1</th>\n",
       "      <td>37</td>\n",
       "      <td>Male</td>\n",
       "      <td>L2</td>\n",
       "      <td>130</td>\n",
       "      <td>250</td>\n",
       "      <td>&lt;120 mg/dl</td>\n",
       "      <td>L1</td>\n",
       "      <td>187</td>\n",
       "      <td>No</td>\n",
       "      <td>3.5</td>\n",
       "      <td>Normal</td>\n",
       "      <td>N0</td>\n",
       "      <td>normal</td>\n",
       "      <td>1</td>\n",
       "    </tr>\n",
       "    <tr>\n",
       "      <th>2</th>\n",
       "      <td>41</td>\n",
       "      <td>Female</td>\n",
       "      <td>L1</td>\n",
       "      <td>130</td>\n",
       "      <td>204</td>\n",
       "      <td>&lt;120 mg/dl</td>\n",
       "      <td>L0</td>\n",
       "      <td>172</td>\n",
       "      <td>No</td>\n",
       "      <td>1.4</td>\n",
       "      <td>T2</td>\n",
       "      <td>N0</td>\n",
       "      <td>normal</td>\n",
       "      <td>1</td>\n",
       "    </tr>\n",
       "    <tr>\n",
       "      <th>3</th>\n",
       "      <td>56</td>\n",
       "      <td>Male</td>\n",
       "      <td>L1</td>\n",
       "      <td>120</td>\n",
       "      <td>236</td>\n",
       "      <td>&lt;120 mg/dl</td>\n",
       "      <td>L1</td>\n",
       "      <td>178</td>\n",
       "      <td>No</td>\n",
       "      <td>0.8</td>\n",
       "      <td>T2</td>\n",
       "      <td>N0</td>\n",
       "      <td>normal</td>\n",
       "      <td>1</td>\n",
       "    </tr>\n",
       "    <tr>\n",
       "      <th>4</th>\n",
       "      <td>57</td>\n",
       "      <td>Female</td>\n",
       "      <td>L0</td>\n",
       "      <td>120</td>\n",
       "      <td>354</td>\n",
       "      <td>&lt;120 mg/dl</td>\n",
       "      <td>L1</td>\n",
       "      <td>163</td>\n",
       "      <td>Yes</td>\n",
       "      <td>0.6</td>\n",
       "      <td>T2</td>\n",
       "      <td>N0</td>\n",
       "      <td>normal</td>\n",
       "      <td>1</td>\n",
       "    </tr>\n",
       "  </tbody>\n",
       "</table>\n",
       "</div>"
      ],
      "text/plain": [
       "   age     sex  cp  trestbps  chol         fbs restecg  thalach exang  \\\n",
       "0   63    Male  L3       145   233  >120 mg/dl      L0      150    No   \n",
       "1   37    Male  L2       130   250  <120 mg/dl      L1      187    No   \n",
       "2   41  Female  L1       130   204  <120 mg/dl      L0      172    No   \n",
       "3   56    Male  L1       120   236  <120 mg/dl      L1      178    No   \n",
       "4   57  Female  L0       120   354  <120 mg/dl      L1      163   Yes   \n",
       "\n",
       "   oldpeak   slope  ca    thal  target  \n",
       "0      2.3  Normal  N0  normal       1  \n",
       "1      3.5  Normal  N0  normal       1  \n",
       "2      1.4      T2  N0  normal       1  \n",
       "3      0.8      T2  N0  normal       1  \n",
       "4      0.6      T2  N0  normal       1  "
      ]
     },
     "execution_count": 8,
     "metadata": {},
     "output_type": "execute_result"
    }
   ],
   "source": [
    "data.head()"
   ]
  },
  {
   "cell_type": "code",
   "execution_count": 9,
   "id": "c14848cc",
   "metadata": {},
   "outputs": [
    {
     "name": "stdout",
     "output_type": "stream",
     "text": [
      "<class 'pandas.core.frame.DataFrame'>\n",
      "RangeIndex: 303 entries, 0 to 302\n",
      "Data columns (total 14 columns):\n",
      " #   Column    Non-Null Count  Dtype  \n",
      "---  ------    --------------  -----  \n",
      " 0   age       303 non-null    int64  \n",
      " 1   sex       303 non-null    object \n",
      " 2   cp        303 non-null    object \n",
      " 3   trestbps  303 non-null    int64  \n",
      " 4   chol      303 non-null    int64  \n",
      " 5   fbs       303 non-null    object \n",
      " 6   restecg   303 non-null    object \n",
      " 7   thalach   303 non-null    int64  \n",
      " 8   exang     303 non-null    object \n",
      " 9   oldpeak   303 non-null    float64\n",
      " 10  slope     303 non-null    object \n",
      " 11  ca        303 non-null    object \n",
      " 12  thal      303 non-null    object \n",
      " 13  target    303 non-null    int64  \n",
      "dtypes: float64(1), int64(5), object(8)\n",
      "memory usage: 33.3+ KB\n"
     ]
    }
   ],
   "source": [
    "data.info()"
   ]
  },
  {
   "cell_type": "code",
   "execution_count": 10,
   "id": "250ef1c7",
   "metadata": {},
   "outputs": [
    {
     "data": {
      "text/plain": [
       "Index(['age', 'trestbps', 'chol', 'thalach', 'oldpeak', 'target'], dtype='object')"
      ]
     },
     "execution_count": 10,
     "metadata": {},
     "output_type": "execute_result"
    }
   ],
   "source": [
    "data.select_dtypes(include=[np.number]).columns"
   ]
  },
  {
   "cell_type": "code",
   "execution_count": 11,
   "id": "49fc5e3f",
   "metadata": {},
   "outputs": [],
   "source": [
    "def dataSummarize(data):\n",
    "    \"\"\"This function summarise the dataset info, including numerical or categorical features\n",
    "       checking duplicate record and missing values\n",
    "    \"\"\"\n",
    "    \n",
    "    # Seperate Numerical and Categorical value\n",
    "    numerical = data.select_dtypes(include=[np.number]).columns.tolist()\n",
    "    categorical = data.select_dtypes(exclude=[np.number]).columns.tolist()\n",
    "    \n",
    "    # Check Anomolies, duplicate and missing values\n",
    "    duplicate_num = data.duplicated().sum()\n",
    "    duplicate_index = data[data.duplicated(keep=False)].index.tolist()\n",
    "    \n",
    "    missing = data.isna().sum()\n",
    "    \n",
    "    print(f\"\"\"\n",
    "--------- Summarize --------------\n",
    "Numerical features: {numerical}\n",
    "Categorical features: {categorical}\n",
    "\n",
    "--------- Duplicate --------------\n",
    "How many duplicate records: {duplicate_num}\n",
    "Where is the duplicate record occur: {duplicate_index}\n",
    "\n",
    "--------- Missing ----------------\n",
    "{missing}\n",
    "\n",
    "\"\"\")\n",
    "    return (numerical, categorical, duplicate_index)\n",
    "\n"
   ]
  },
  {
   "cell_type": "code",
   "execution_count": 12,
   "id": "a42b450b",
   "metadata": {},
   "outputs": [
    {
     "name": "stdout",
     "output_type": "stream",
     "text": [
      "\n",
      "--------- Summarize --------------\n",
      "Numerical features: ['age', 'trestbps', 'chol', 'thalach', 'oldpeak', 'target']\n",
      "Categorical features: ['sex', 'cp', 'fbs', 'restecg', 'exang', 'slope', 'ca', 'thal']\n",
      "\n",
      "--------- Duplicate --------------\n",
      "How many duplicate records: 1\n",
      "Where is the duplicate record occur: [163, 164]\n",
      "\n",
      "--------- Missing ----------------\n",
      "age         0\n",
      "sex         0\n",
      "cp          0\n",
      "trestbps    0\n",
      "chol        0\n",
      "fbs         0\n",
      "restecg     0\n",
      "thalach     0\n",
      "exang       0\n",
      "oldpeak     0\n",
      "slope       0\n",
      "ca          0\n",
      "thal        0\n",
      "target      0\n",
      "dtype: int64\n",
      "\n",
      "\n"
     ]
    }
   ],
   "source": [
    "numeric, category, duplicated = dataSummarize(data)"
   ]
  },
  {
   "cell_type": "markdown",
   "id": "b64820f3",
   "metadata": {},
   "source": [
    "## Duplicated Records\n",
    "There is one duplicated records occur in this dataset. Check the records before removed the record from the dataset"
   ]
  },
  {
   "cell_type": "code",
   "execution_count": 13,
   "id": "d2d4b6a3",
   "metadata": {},
   "outputs": [
    {
     "data": {
      "text/html": [
       "<div>\n",
       "<style scoped>\n",
       "    .dataframe tbody tr th:only-of-type {\n",
       "        vertical-align: middle;\n",
       "    }\n",
       "\n",
       "    .dataframe tbody tr th {\n",
       "        vertical-align: top;\n",
       "    }\n",
       "\n",
       "    .dataframe thead th {\n",
       "        text-align: right;\n",
       "    }\n",
       "</style>\n",
       "<table border=\"1\" class=\"dataframe\">\n",
       "  <thead>\n",
       "    <tr style=\"text-align: right;\">\n",
       "      <th></th>\n",
       "      <th>age</th>\n",
       "      <th>sex</th>\n",
       "      <th>cp</th>\n",
       "      <th>trestbps</th>\n",
       "      <th>chol</th>\n",
       "      <th>fbs</th>\n",
       "      <th>restecg</th>\n",
       "      <th>thalach</th>\n",
       "      <th>exang</th>\n",
       "      <th>oldpeak</th>\n",
       "      <th>slope</th>\n",
       "      <th>ca</th>\n",
       "      <th>thal</th>\n",
       "      <th>target</th>\n",
       "    </tr>\n",
       "  </thead>\n",
       "  <tbody>\n",
       "    <tr>\n",
       "      <th>163</th>\n",
       "      <td>38</td>\n",
       "      <td>Male</td>\n",
       "      <td>L2</td>\n",
       "      <td>138</td>\n",
       "      <td>175</td>\n",
       "      <td>&lt;120 mg/dl</td>\n",
       "      <td>L1</td>\n",
       "      <td>173</td>\n",
       "      <td>No</td>\n",
       "      <td>0.0</td>\n",
       "      <td>T2</td>\n",
       "      <td>N4</td>\n",
       "      <td>normal</td>\n",
       "      <td>1</td>\n",
       "    </tr>\n",
       "    <tr>\n",
       "      <th>164</th>\n",
       "      <td>38</td>\n",
       "      <td>Male</td>\n",
       "      <td>L2</td>\n",
       "      <td>138</td>\n",
       "      <td>175</td>\n",
       "      <td>&lt;120 mg/dl</td>\n",
       "      <td>L1</td>\n",
       "      <td>173</td>\n",
       "      <td>No</td>\n",
       "      <td>0.0</td>\n",
       "      <td>T2</td>\n",
       "      <td>N4</td>\n",
       "      <td>normal</td>\n",
       "      <td>1</td>\n",
       "    </tr>\n",
       "  </tbody>\n",
       "</table>\n",
       "</div>"
      ],
      "text/plain": [
       "     age   sex  cp  trestbps  chol         fbs restecg  thalach exang  \\\n",
       "163   38  Male  L2       138   175  <120 mg/dl      L1      173    No   \n",
       "164   38  Male  L2       138   175  <120 mg/dl      L1      173    No   \n",
       "\n",
       "     oldpeak slope  ca    thal  target  \n",
       "163      0.0    T2  N4  normal       1  \n",
       "164      0.0    T2  N4  normal       1  "
      ]
     },
     "execution_count": 13,
     "metadata": {},
     "output_type": "execute_result"
    }
   ],
   "source": [
    "data.loc[duplicated]"
   ]
  },
  {
   "cell_type": "markdown",
   "id": "5e1a472c",
   "metadata": {},
   "source": [
    "Drop duplicated records"
   ]
  },
  {
   "cell_type": "code",
   "execution_count": 14,
   "id": "a197145c",
   "metadata": {},
   "outputs": [],
   "source": [
    "data.drop_duplicates(inplace=True)"
   ]
  },
  {
   "cell_type": "code",
   "execution_count": 15,
   "id": "dbc13735",
   "metadata": {},
   "outputs": [
    {
     "name": "stdout",
     "output_type": "stream",
     "text": [
      "\n",
      "--------- Summarize --------------\n",
      "Numerical features: ['age', 'trestbps', 'chol', 'thalach', 'oldpeak', 'target']\n",
      "Categorical features: ['sex', 'cp', 'fbs', 'restecg', 'exang', 'slope', 'ca', 'thal']\n",
      "\n",
      "--------- Duplicate --------------\n",
      "How many duplicate records: 0\n",
      "Where is the duplicate record occur: []\n",
      "\n",
      "--------- Missing ----------------\n",
      "age         0\n",
      "sex         0\n",
      "cp          0\n",
      "trestbps    0\n",
      "chol        0\n",
      "fbs         0\n",
      "restecg     0\n",
      "thalach     0\n",
      "exang       0\n",
      "oldpeak     0\n",
      "slope       0\n",
      "ca          0\n",
      "thal        0\n",
      "target      0\n",
      "dtype: int64\n",
      "\n",
      "\n"
     ]
    }
   ],
   "source": [
    "numeric, category, duplicated = dataSummarize(data)"
   ]
  },
  {
   "cell_type": "markdown",
   "id": "5e3f6d8e",
   "metadata": {},
   "source": [
    "## Check Correlation Between Features\n",
    "**Postive Correlation**\n",
    "- target:thalach\n",
    "---\n",
    "\n",
    "**Negative Correlation**\n",
    "- thalach:oldpeak"
   ]
  },
  {
   "cell_type": "code",
   "execution_count": 16,
   "id": "8dd40ba8",
   "metadata": {},
   "outputs": [
    {
     "data": {
      "text/plain": [
       "<AxesSubplot:>"
      ]
     },
     "execution_count": 16,
     "metadata": {},
     "output_type": "execute_result"
    },
    {
     "data": {
      "image/png": "[encoded data removed]",
      "text/plain": [
       "<Figure size 504x504 with 2 Axes>"
      ]
     },
     "metadata": {
      "needs_background": "light"
     },
     "output_type": "display_data"
    }
   ],
   "source": [
    "plt.figure(figsize=(7,7))\n",
    "sns.heatmap(data=data.corr(), annot=True)"
   ]
  },
  {
   "cell_type": "markdown",
   "id": "a4e31224",
   "metadata": {},
   "source": [
    "# Exploration Data Analysis"
   ]
  },
  {
   "cell_type": "code",
   "execution_count": 17,
   "id": "df35da64",
   "metadata": {},
   "outputs": [
    {
     "data": {
      "text/html": [
       "<div>\n",
       "<style scoped>\n",
       "    .dataframe tbody tr th:only-of-type {\n",
       "        vertical-align: middle;\n",
       "    }\n",
       "\n",
       "    .dataframe tbody tr th {\n",
       "        vertical-align: top;\n",
       "    }\n",
       "\n",
       "    .dataframe thead th {\n",
       "        text-align: right;\n",
       "    }\n",
       "</style>\n",
       "<table border=\"1\" class=\"dataframe\">\n",
       "  <thead>\n",
       "    <tr style=\"text-align: right;\">\n",
       "      <th></th>\n",
       "      <th>age</th>\n",
       "      <th>trestbps</th>\n",
       "      <th>chol</th>\n",
       "      <th>thalach</th>\n",
       "      <th>oldpeak</th>\n",
       "      <th>target</th>\n",
       "    </tr>\n",
       "  </thead>\n",
       "  <tbody>\n",
       "    <tr>\n",
       "      <th>count</th>\n",
       "      <td>302.00000</td>\n",
       "      <td>302.000000</td>\n",
       "      <td>302.000000</td>\n",
       "      <td>302.000000</td>\n",
       "      <td>302.000000</td>\n",
       "      <td>302.000000</td>\n",
       "    </tr>\n",
       "    <tr>\n",
       "      <th>mean</th>\n",
       "      <td>54.42053</td>\n",
       "      <td>131.602649</td>\n",
       "      <td>246.500000</td>\n",
       "      <td>149.569536</td>\n",
       "      <td>1.043046</td>\n",
       "      <td>0.543046</td>\n",
       "    </tr>\n",
       "    <tr>\n",
       "      <th>std</th>\n",
       "      <td>9.04797</td>\n",
       "      <td>17.563394</td>\n",
       "      <td>51.753489</td>\n",
       "      <td>22.903527</td>\n",
       "      <td>1.161452</td>\n",
       "      <td>0.498970</td>\n",
       "    </tr>\n",
       "    <tr>\n",
       "      <th>min</th>\n",
       "      <td>29.00000</td>\n",
       "      <td>94.000000</td>\n",
       "      <td>126.000000</td>\n",
       "      <td>71.000000</td>\n",
       "      <td>0.000000</td>\n",
       "      <td>0.000000</td>\n",
       "    </tr>\n",
       "    <tr>\n",
       "      <th>25%</th>\n",
       "      <td>48.00000</td>\n",
       "      <td>120.000000</td>\n",
       "      <td>211.000000</td>\n",
       "      <td>133.250000</td>\n",
       "      <td>0.000000</td>\n",
       "      <td>0.000000</td>\n",
       "    </tr>\n",
       "    <tr>\n",
       "      <th>50%</th>\n",
       "      <td>55.50000</td>\n",
       "      <td>130.000000</td>\n",
       "      <td>240.500000</td>\n",
       "      <td>152.500000</td>\n",
       "      <td>0.800000</td>\n",
       "      <td>1.000000</td>\n",
       "    </tr>\n",
       "    <tr>\n",
       "      <th>75%</th>\n",
       "      <td>61.00000</td>\n",
       "      <td>140.000000</td>\n",
       "      <td>274.750000</td>\n",
       "      <td>166.000000</td>\n",
       "      <td>1.600000</td>\n",
       "      <td>1.000000</td>\n",
       "    </tr>\n",
       "    <tr>\n",
       "      <th>max</th>\n",
       "      <td>77.00000</td>\n",
       "      <td>200.000000</td>\n",
       "      <td>564.000000</td>\n",
       "      <td>202.000000</td>\n",
       "      <td>6.200000</td>\n",
       "      <td>1.000000</td>\n",
       "    </tr>\n",
       "  </tbody>\n",
       "</table>\n",
       "</div>"
      ],
      "text/plain": [
       "             age    trestbps        chol     thalach     oldpeak      target\n",
       "count  302.00000  302.000000  302.000000  302.000000  302.000000  302.000000\n",
       "mean    54.42053  131.602649  246.500000  149.569536    1.043046    0.543046\n",
       "std      9.04797   17.563394   51.753489   22.903527    1.161452    0.498970\n",
       "min     29.00000   94.000000  126.000000   71.000000    0.000000    0.000000\n",
       "25%     48.00000  120.000000  211.000000  133.250000    0.000000    0.000000\n",
       "50%     55.50000  130.000000  240.500000  152.500000    0.800000    1.000000\n",
       "75%     61.00000  140.000000  274.750000  166.000000    1.600000    1.000000\n",
       "max     77.00000  200.000000  564.000000  202.000000    6.200000    1.000000"
      ]
     },
     "execution_count": 17,
     "metadata": {},
     "output_type": "execute_result"
    }
   ],
   "source": [
    "data.describe()"
   ]
  },
  {
   "cell_type": "code",
   "execution_count": 18,
   "id": "7bf43066",
   "metadata": {},
   "outputs": [
    {
     "data": {
      "image/png": "[encoded data removed]",
      "text/plain": [
       "<Figure size 1080x720 with 6 Axes>"
      ]
     },
     "metadata": {
      "needs_background": "light"
     },
     "output_type": "display_data"
    }
   ],
   "source": [
    "fig, axes = plt.subplots(2, 3, figsize=(15, 10))\n",
    "\n",
    "for index, col in enumerate(numeric):\n",
    "    sns.histplot(ax=axes[int(np.floor(index / 3)), index % 3], data=data, x=col)"
   ]
  },
  {
   "cell_type": "code",
   "execution_count": 19,
   "id": "4c920e59",
   "metadata": {},
   "outputs": [
    {
     "data": {
      "text/html": [
       "<div>\n",
       "<style scoped>\n",
       "    .dataframe tbody tr th:only-of-type {\n",
       "        vertical-align: middle;\n",
       "    }\n",
       "\n",
       "    .dataframe tbody tr th {\n",
       "        vertical-align: top;\n",
       "    }\n",
       "\n",
       "    .dataframe thead th {\n",
       "        text-align: right;\n",
       "    }\n",
       "</style>\n",
       "<table border=\"1\" class=\"dataframe\">\n",
       "  <thead>\n",
       "    <tr style=\"text-align: right;\">\n",
       "      <th></th>\n",
       "      <th>sex</th>\n",
       "      <th>cp</th>\n",
       "      <th>fbs</th>\n",
       "      <th>restecg</th>\n",
       "      <th>exang</th>\n",
       "      <th>slope</th>\n",
       "      <th>ca</th>\n",
       "      <th>thal</th>\n",
       "    </tr>\n",
       "  </thead>\n",
       "  <tbody>\n",
       "    <tr>\n",
       "      <th>count</th>\n",
       "      <td>302</td>\n",
       "      <td>302</td>\n",
       "      <td>302</td>\n",
       "      <td>302</td>\n",
       "      <td>302</td>\n",
       "      <td>302</td>\n",
       "      <td>302</td>\n",
       "      <td>302</td>\n",
       "    </tr>\n",
       "    <tr>\n",
       "      <th>unique</th>\n",
       "      <td>2</td>\n",
       "      <td>4</td>\n",
       "      <td>2</td>\n",
       "      <td>3</td>\n",
       "      <td>2</td>\n",
       "      <td>3</td>\n",
       "      <td>5</td>\n",
       "      <td>1</td>\n",
       "    </tr>\n",
       "    <tr>\n",
       "      <th>top</th>\n",
       "      <td>Male</td>\n",
       "      <td>L0</td>\n",
       "      <td>&lt;120 mg/dl</td>\n",
       "      <td>L1</td>\n",
       "      <td>No</td>\n",
       "      <td>T2</td>\n",
       "      <td>N0</td>\n",
       "      <td>normal</td>\n",
       "    </tr>\n",
       "    <tr>\n",
       "      <th>freq</th>\n",
       "      <td>206</td>\n",
       "      <td>143</td>\n",
       "      <td>257</td>\n",
       "      <td>151</td>\n",
       "      <td>203</td>\n",
       "      <td>141</td>\n",
       "      <td>175</td>\n",
       "      <td>302</td>\n",
       "    </tr>\n",
       "  </tbody>\n",
       "</table>\n",
       "</div>"
      ],
      "text/plain": [
       "         sex   cp         fbs restecg exang slope   ca    thal\n",
       "count    302  302         302     302   302   302  302     302\n",
       "unique     2    4           2       3     2     3    5       1\n",
       "top     Male   L0  <120 mg/dl      L1    No    T2   N0  normal\n",
       "freq     206  143         257     151   203   141  175     302"
      ]
     },
     "execution_count": 19,
     "metadata": {},
     "output_type": "execute_result"
    }
   ],
   "source": [
    "data.describe(include=[\"O\"])"
   ]
  },
  {
   "cell_type": "markdown",
   "id": "0c441f23",
   "metadata": {},
   "source": [
    "1. This dataset has more male then female\n",
    "2. L0 and L2 are the two major chest pain type in this dataset.\n",
    "3. Most of the people have blood suger lower then 120 mg/dl\n",
    "4. Half of the sample in this dataset had exercise.\n",
    "5. All of the people don't have heart defect"
   ]
  },
  {
   "cell_type": "code",
   "execution_count": 20,
   "id": "f9a65f41",
   "metadata": {},
   "outputs": [
    {
     "data": {
      "image/png": "[encoded data removed]",
      "text/plain": [
       "<Figure size 1080x720 with 9 Axes>"
      ]
     },
     "metadata": {
      "needs_background": "light"
     },
     "output_type": "display_data"
    }
   ],
   "source": [
    "fig, axes = plt.subplots(3, 3, figsize=(15, 10))\n",
    "\n",
    "for index, col in enumerate(category):\n",
    "    sns.countplot(ax=axes[int(np.floor(index / 3)), index % 3], data=data, x=col)"
   ]
  },
  {
   "cell_type": "markdown",
   "id": "6d956b39",
   "metadata": {},
   "source": [
    "## Drop Useless Features"
   ]
  },
  {
   "cell_type": "code",
   "execution_count": 21,
   "id": "fc2ee9ef",
   "metadata": {},
   "outputs": [],
   "source": [
    "data.drop(\"thal\", axis=1, inplace=True)"
   ]
  },
  {
   "cell_type": "markdown",
   "id": "c6387f7f",
   "metadata": {},
   "source": [
    "## Step 2 Ask Question\n",
    "After understand our problem. Now we need to setup several questions for us to understand the dataset better. First, we need to understand the corrleration between each features\n",
    "1. Will Age effect heart disease?\n",
    "2. Will heart disease have cause different chest type pain?\n",
    "3. Blood sugar and heart disease?\n",
    "4. High blood pressure lead to serve heart disease?\n",
    "5. The slope of ST depressure will cause heart disease?\n",
    "6. Will Rest ECG Level increase the incidence of heart disease?"
   ]
  },
  {
   "cell_type": "markdown",
   "id": "14ba5439",
   "metadata": {},
   "source": [
    "**1. Will age affect the incidence of heart disease?**\n",
    "\n",
    "The figure illustrate that younger people who had symptoms are more possible diganoise heart disease compare to elder people. "
   ]
  },
  {
   "cell_type": "code",
   "execution_count": 22,
   "id": "80a3a0af",
   "metadata": {},
   "outputs": [
    {
     "data": {
      "text/plain": [
       "<matplotlib.lines.Line2D at 0x23e80dec4f0>"
      ]
     },
     "execution_count": 22,
     "metadata": {},
     "output_type": "execute_result"
    },
    {
     "data": {
      "image/png": "[encoded data removed]",
      "text/plain": [
       "<Figure size 432x288 with 1 Axes>"
      ]
     },
     "metadata": {
      "needs_background": "light"
     },
     "output_type": "display_data"
    }
   ],
   "source": [
    "sns.histplot(data=data, x='age', hue='target', kde=True)\n",
    "plt.axvline(np.median(data[data.target == 1].age), color='r')\n",
    "plt.axvline(np.median(data[data.target == 0].age), color='g')"
   ]
  },
  {
   "cell_type": "markdown",
   "id": "90ecd3cc",
   "metadata": {},
   "source": [
    "**2.Will heart disease have cause different chest type pain?**\n",
    "\n",
    "In the bar chart below shows that most of the heart disease patients might have type 1, 2, 3 of chest pain. Type 2 chest pain is the major type of pain for heart disease patients. On the other have, if people have type 0 chest pain will have higher probability not having heart disease."
   ]
  },
  {
   "cell_type": "code",
   "execution_count": 23,
   "id": "0564fab5",
   "metadata": {},
   "outputs": [
    {
     "data": {
      "text/plain": [
       "<AxesSubplot:title={'center':'Chest Pain vs Heart Disease'}, ylabel='target'>"
      ]
     },
     "execution_count": 23,
     "metadata": {},
     "output_type": "execute_result"
    },
    {
     "data": {
      "image/png": "[encoded data removed]",
      "text/plain": [
       "<Figure size 432x288 with 1 Axes>"
      ]
     },
     "metadata": {
      "needs_background": "light"
     },
     "output_type": "display_data"
    }
   ],
   "source": [
    "data.groupby(['target', 'cp']).size().unstack().plot(kind='barh', stacked=True, title=\"Chest Pain vs Heart Disease\")"
   ]
  },
  {
   "cell_type": "markdown",
   "id": "e6877445",
   "metadata": {},
   "source": [
    "**3.Blood sugar and heart disease?**\n",
    "\n",
    "There is no strong relation between blood sugar and heart disease. However, in realstic we usually think that high blood sugar are relate to heart disease. In fact, they did not have strong relationship according to this dataset."
   ]
  },
  {
   "cell_type": "code",
   "execution_count": 24,
   "id": "034acc91",
   "metadata": {},
   "outputs": [
    {
     "data": {
      "text/plain": [
       "<AxesSubplot:xlabel='target', ylabel='count'>"
      ]
     },
     "execution_count": 24,
     "metadata": {},
     "output_type": "execute_result"
    },
    {
     "data": {
      "image/png": "[encoded data removed]",
      "text/plain": [
       "<Figure size 432x288 with 1 Axes>"
      ]
     },
     "metadata": {
      "needs_background": "light"
     },
     "output_type": "display_data"
    }
   ],
   "source": [
    "sns.countplot(data=data, x='target', hue='fbs')"
   ]
  },
  {
   "cell_type": "markdown",
   "id": "b054af64",
   "metadata": {},
   "source": [
    "**4.High blood pressure lead to serve heart disease?**\n",
    "\n",
    "According to the figure below, there is not difference in blood pressure between healthy and heart disease people."
   ]
  },
  {
   "cell_type": "code",
   "execution_count": 25,
   "id": "9b8163ff",
   "metadata": {},
   "outputs": [
    {
     "data": {
      "text/plain": [
       "<AxesSubplot:xlabel='trestbps', ylabel='Count'>"
      ]
     },
     "execution_count": 25,
     "metadata": {},
     "output_type": "execute_result"
    },
    {
     "data": {
      "image/png": "[encoded data removed]",
      "text/plain": [
       "<Figure size 432x288 with 1 Axes>"
      ]
     },
     "metadata": {
      "needs_background": "light"
     },
     "output_type": "display_data"
    }
   ],
   "source": [
    "sns.histplot(data=data, x='trestbps', hue='target')"
   ]
  },
  {
   "cell_type": "markdown",
   "id": "1f6ba516",
   "metadata": {},
   "source": [
    "**5. The slope of ST depressure will cause heart disease?**\n",
    "\n",
    "The slope of ST depressure show siginificant different between healthy and heart disease patients. T2 slope is more common in heart disease patients, while healthy people usually have T1 slope. "
   ]
  },
  {
   "cell_type": "code",
   "execution_count": 26,
   "id": "915b413d",
   "metadata": {},
   "outputs": [
    {
     "data": {
      "text/plain": [
       "<AxesSubplot:title={'center':'ST-Depressure slope vs Heart Disease'}, ylabel='target'>"
      ]
     },
     "execution_count": 26,
     "metadata": {},
     "output_type": "execute_result"
    },
    {
     "data": {
      "image/png": "[encoded data removed]",
      "text/plain": [
       "<Figure size 432x288 with 1 Axes>"
      ]
     },
     "metadata": {
      "needs_background": "light"
     },
     "output_type": "display_data"
    }
   ],
   "source": [
    "data.groupby(['target', 'slope']).size().unstack().plot(kind='barh', stacked=True, title=\"ST-Depressure slope vs Heart Disease\")"
   ]
  },
  {
   "cell_type": "markdown",
   "id": "238b2381",
   "metadata": {},
   "source": [
    "**6. Will Rest ECG Level increase the incidence of heart disease**\n",
    "\n",
    "Heart disease patient have Level-1 ECG level. "
   ]
  },
  {
   "cell_type": "code",
   "execution_count": 27,
   "id": "7d86406d",
   "metadata": {},
   "outputs": [
    {
     "data": {
      "text/plain": [
       "<AxesSubplot:title={'center':'Rest-ECG vs Heart Disease'}, xlabel='target'>"
      ]
     },
     "execution_count": 27,
     "metadata": {},
     "output_type": "execute_result"
    },
    {
     "data": {
      "image/png": "[encoded data removed]",
      "text/plain": [
       "<Figure size 432x288 with 1 Axes>"
      ]
     },
     "metadata": {
      "needs_background": "light"
     },
     "output_type": "display_data"
    }
   ],
   "source": [
    "data.groupby(['target', 'restecg']).size().unstack().plot(kind='bar', title=\"Rest-ECG vs Heart Disease\")"
   ]
  },
  {
   "cell_type": "code",
   "execution_count": 28,
   "id": "df78ac24",
   "metadata": {},
   "outputs": [
    {
     "data": {
      "text/plain": [
       "<AxesSubplot:title={'center':'Rest-ECG vs Heart Disease'}, xlabel='target'>"
      ]
     },
     "execution_count": 28,
     "metadata": {},
     "output_type": "execute_result"
    },
    {
     "data": {
      "image/png": "[encoded data removed]",
      "text/plain": [
       "<Figure size 432x288 with 1 Axes>"
      ]
     },
     "metadata": {
      "needs_background": "light"
     },
     "output_type": "display_data"
    }
   ],
   "source": [
    "data.groupby(['target', 'ca']).size().unstack().plot(kind='bar', stacked=True, title=\"Rest-ECG vs Heart Disease\")"
   ]
  },
  {
   "cell_type": "markdown",
   "id": "ff54f83d",
   "metadata": {},
   "source": [
    "**7. Cholesterol and heart disease?**\n",
    "\n",
    "Cholesterol does not have siginificant difference between healthy and heart disease people."
   ]
  },
  {
   "cell_type": "code",
   "execution_count": 29,
   "id": "67330028",
   "metadata": {},
   "outputs": [
    {
     "data": {
      "text/plain": [
       "Text(0.5, 1.0, 'Cholesterol VS Heart Disease')"
      ]
     },
     "execution_count": 29,
     "metadata": {},
     "output_type": "execute_result"
    },
    {
     "data": {
      "image/png": "[encoded data removed]",
      "text/plain": [
       "<Figure size 432x288 with 1 Axes>"
      ]
     },
     "metadata": {
      "needs_background": "light"
     },
     "output_type": "display_data"
    }
   ],
   "source": [
    "sns.histplot(data=data, x='chol', hue='target')\n",
    "plt.title('Cholesterol VS Heart Disease')"
   ]
  },
  {
   "cell_type": "markdown",
   "id": "e9042f1d",
   "metadata": {},
   "source": [
    "# Conclusion of EDA"
   ]
  },
  {
   "cell_type": "markdown",
   "id": "2cd7236c",
   "metadata": {},
   "source": [
    "In conclusion, younger people have a higher probability of being diagnosed with heart disease, especially for patients who experience Type 1, 2, 3 chest pain. Besides, the slope of ST depression shows a significant relationship with heart disease patients. People with T2-slope has a higher chance for been diagnosed with heart disease. Moreover, if no significant vessel has been detecting through fluoroscopy, which might indicate that the patients has higher chance having heart disease. People who have an N4-ECG pattern is probably heart disease patient. "
   ]
  },
  {
   "cell_type": "markdown",
   "id": "0ca1e160",
   "metadata": {},
   "source": [
    "# Machine Learning"
   ]
  },
  {
   "cell_type": "code",
   "execution_count": 77,
   "id": "5a94a515",
   "metadata": {},
   "outputs": [],
   "source": [
    "from sklearn.model_selection import train_test_split\n",
    "from sklearn.linear_model import LogisticRegression, LogisticRegressionCV\n",
    "from sklearn.ensemble import RandomForestClassifier\n",
    "from sklearn.metrics import accuracy_score, confusion_matrix, classification_report\n",
    "from sklearn.tree import DecisionTreeClassifier"
   ]
  },
  {
   "cell_type": "code",
   "execution_count": 35,
   "id": "086ba42e",
   "metadata": {},
   "outputs": [],
   "source": [
    "features = pd.get_dummies(data.iloc[:, data.columns != 'target'])\n",
    "label = data['target']"
   ]
  },
  {
   "cell_type": "code",
   "execution_count": 69,
   "id": "07ac78c1",
   "metadata": {},
   "outputs": [],
   "source": [
    "X_train, X_test, y_train, y_test = train_test_split(features, label, random_state=42, test_size=0.3)"
   ]
  },
  {
   "cell_type": "markdown",
   "id": "21eaf085",
   "metadata": {},
   "source": [
    "## Linear based machine learning model"
   ]
  },
  {
   "cell_type": "code",
   "execution_count": 89,
   "id": "659ce691",
   "metadata": {},
   "outputs": [
    {
     "name": "stdout",
     "output_type": "stream",
     "text": [
      "              precision    recall  f1-score   support\n",
      "\n",
      "           0       0.93      0.85      0.89        46\n",
      "           1       0.86      0.93      0.89        45\n",
      "\n",
      "    accuracy                           0.89        91\n",
      "   macro avg       0.89      0.89      0.89        91\n",
      "weighted avg       0.89      0.89      0.89        91\n",
      "\n",
      " (tn, fp, fn, tp) = [39  7  3 42]\n"
     ]
    }
   ],
   "source": [
    "lr_model = LogisticRegressionCV(max_iter=10000)\n",
    "lr_model.fit(X_train, y_train)\n",
    "y_pred = lr_model.predict(X_test)\n",
    "print(f\"{classification_report(y_pred, y_test)}\")\n",
    "print(f\" (tn, fp, fn, tp) = {confusion_matrix(y_pred, y_test).ravel()}\")"
   ]
  },
  {
   "cell_type": "code",
   "execution_count": 90,
   "id": "ebe9bdd7",
   "metadata": {},
   "outputs": [
    {
     "name": "stdout",
     "output_type": "stream",
     "text": [
      "Training score: 0.8625592417061612\n",
      "Testing score: 0.8901098901098901\n"
     ]
    }
   ],
   "source": [
    "print(f'Training score: {lr_model.score(X_train, y_train)}')\n",
    "print(f'Testing score: {lr_model.score(X_test, y_test)}')"
   ]
  },
  {
   "cell_type": "markdown",
   "id": "e283d02c",
   "metadata": {},
   "source": [
    "## Tree-based machine learning model"
   ]
  },
  {
   "cell_type": "code",
   "execution_count": 93,
   "id": "31a83cd8",
   "metadata": {},
   "outputs": [
    {
     "name": "stdout",
     "output_type": "stream",
     "text": [
      "              precision    recall  f1-score   support\n",
      "\n",
      "           0       0.81      0.71      0.76        48\n",
      "           1       0.71      0.81      0.76        43\n",
      "\n",
      "    accuracy                           0.76        91\n",
      "   macro avg       0.76      0.76      0.76        91\n",
      "weighted avg       0.76      0.76      0.76        91\n",
      "\n",
      " (tn, fp, fn, tp) = [34 14  8 35]\n"
     ]
    }
   ],
   "source": [
    "dc_model = DecisionTreeClassifier()\n",
    "dc_model.fit(X_train, y_train)\n",
    "y_pred_dc = dc_model.predict(X_test)\n",
    "print(f\"{classification_report(y_pred_dc, y_test)}\")\n",
    "print(f\" (tn, fp, fn, tp) = {confusion_matrix(y_pred_dc, y_test).ravel()}\")"
   ]
  },
  {
   "cell_type": "code",
   "execution_count": 92,
   "id": "ff2b3c05",
   "metadata": {},
   "outputs": [
    {
     "name": "stdout",
     "output_type": "stream",
     "text": [
      "Training score: 1.0\n",
      "Testing score: 0.7912087912087912\n"
     ]
    }
   ],
   "source": [
    "print(f'Training score: {dc_model.score(X_train, y_train)}')\n",
    "print(f'Testing score: {dc_model.score(X_test, y_test)}')"
   ]
  },
  {
   "cell_type": "markdown",
   "id": "d42add87",
   "metadata": {},
   "source": [
    "## Machine Learning Task Conclusion\n",
    "\n",
    "For this dataset, we are trying to predict the patient have heart disease or not. Hence, lower false negative value is better. As a result, it shows that simple logistic regression has better result compare to decision tree. The accuracy is around 0.89 for logistic regression model and up to 0.95 recall rate, which means this model can predict 95% of patient who truly have heart disease correctly. \n",
    "\n",
    "On the other hand, the result shows that decision tree had overfitted to the training dataset, which lead to poor performance for predict the testing dataset. Besides, decision tree model have lower recall and F1 score.\n",
    "\n",
    "In conclusion, for this dataset predicting heart disease patient, the best model is to used the simple logistic regression model, higher accuracy, recall and F1-score. "
   ]
  }
 ],
 "metadata": {
  "kernelspec": {
   "display_name": "Python 3 (ipykernel)",
   "language": "python",
   "name": "python3"
  },
  "language_info": {
   "codemirror_mode": {
    "name": "ipython",
    "version": 3
   },
   "file_extension": ".py",
   "mimetype": "text/x-python",
   "name": "python",
   "nbconvert_exporter": "python",
   "pygments_lexer": "ipython3",
   "version": "3.8.12"
  }
 },
 "nbformat": 4,
 "nbformat_minor": 5
}
